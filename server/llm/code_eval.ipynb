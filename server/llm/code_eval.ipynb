{
 "cells": [
  {
   "cell_type": "code",
   "execution_count": 30,
   "id": "d9f19431",
   "metadata": {},
   "outputs": [],
   "source": [
    "import requests\n",
    "import json\n",
    "\n",
    "API_KEY = \"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\"\n",
    "API_URL = \"https://openrouter.ai/api/v1/chat/completions\""
   ]
  },
  {
   "cell_type": "code",
   "execution_count": 25,
   "id": "8dc4383d",
   "metadata": {},
   "outputs": [],
   "source": [
    "question = '''Write a program to print name'''\n",
    "code = '''print(\"my name is pranav)'''\n",
    "\n",
    "system_prompt = '''You are an AI code evaluator. Given a task and a code snippet, your job is to determine whether the code correctly fulfills the task's intent.\n",
    "\n",
    "Respond with either:\n",
    "- **\"correct\"** — if the code does what the task describes, even if it includes minor variations in phrasing or formatting, or adds harmless extra text.\n",
    "- **\"incorrect\"** — if the code fails to perform the task, or contains syntax/runtime errors.\n",
    "\n",
    "Acceptable variations include:\n",
    "- Adding extra words like \"My name is...\" or \"The number is...\"\n",
    "- Using either single `'` or double `\"` quotes.\n",
    "- Minor spelling or naming differences (e.g., \"John\" vs \"john\") if they still match the intent of \"your name\"\n",
    "\n",
    "Only mark as **incorrect** if:\n",
    "- The code has syntax or runtime errors\n",
    "- Or it does **not fulfill the task's intent**, regardless of formatting\n",
    "\n",
    "Only respond with one word: `correct` or `incorrect`\n",
    "'''"
   ]
  },
  {
   "cell_type": "code",
   "execution_count": null,
   "id": "51c7b576",
   "metadata": {},
   "outputs": [],
   "source": [
    "headers = {\n",
    "    \"Authorization\": f\"Bearer {API_KEY}\",\n",
    "    \"Content-Type\": \"application/json\"\n",
    "}\n",
    "\n",
    "payload = json.dumps({\n",
    "    \"model\": \"deepseek/deepseek-v3-base:free\",\n",
    "    \"messages\": [\n",
    "        {\"role\": \"system\", \"content\": system_prompt},\n",
    "        {\"role\": \"user\", \"content\": f\"{question}\\n\\n{code}\"}\n",
    "    ],\n",
    "    \"temperature\": 0.2,\n",
    "    \"max_tokens\": 10\n",
    "})"
   ]
  },
  {
   "cell_type": "code",
   "execution_count": null,
   "id": "4d5aae67",
   "metadata": {},
   "outputs": [],
   "source": [
    "response = requests.post(\n",
    "    url=API_URL,\n",
    "    headers=headers,\n",
    "    data=payload\n",
    ")"
   ]
  },
  {
   "cell_type": "code",
   "execution_count": 29,
   "id": "5673b5a0",
   "metadata": {},
   "outputs": [
    {
     "name": "stdout",
     "output_type": "stream",
     "text": [
      "Error: 401 {\"error\":{\"message\":\"No auth credentials found\",\"code\":401}}\n"
     ]
    }
   ],
   "source": [
    "if response.status_code == 200:\n",
    "    result = response.json()\n",
    "    answer = result['choices'][0]['message']['content'].strip()\n",
    "    print(\"Code Evaluation:\", answer)\n",
    "else:\n",
    "    print(\"Error:\", response.status_code, response.text)\n"
   ]
  }
 ],
 "metadata": {
  "kernelspec": {
   "display_name": "venv",
   "language": "python",
   "name": "python3"
  },
  "language_info": {
   "codemirror_mode": {
    "name": "ipython",
    "version": 3
   },
   "file_extension": ".py",
   "mimetype": "text/x-python",
   "name": "python",
   "nbconvert_exporter": "python",
   "pygments_lexer": "ipython3",
   "version": "3.13.2"
  }
 },
 "nbformat": 4,
 "nbformat_minor": 5
}
